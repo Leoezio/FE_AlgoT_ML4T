{
 "cells": [
  {
   "cell_type": "code",
   "execution_count": 14,
   "metadata": {
    "collapsed": true
   },
   "outputs": [],
   "source": [
    "import pandas as pd\n",
    "import matplotlib.pyplot as plt"
   ]
  },
  {
   "cell_type": "code",
   "execution_count": 8,
   "metadata": {
    "collapsed": false
   },
   "outputs": [
    {
     "name": "stdout",
     "output_type": "stream",
     "text": [
      "         Date        Open        High         Low       Close    Volume  \\\n",
      "0  2015-12-04  115.290001  119.250000  115.110001  119.029999  56524700   \n",
      "1  2015-12-03  116.550003  116.790001  114.220001  115.199997  41476500   \n",
      "2  2015-12-02  117.339996  118.110001  116.080002  116.279999  33199000   \n",
      "3  2015-12-01  118.750000  118.809998  116.860001  117.339996  34701000   \n",
      "4  2015-11-30  117.989998  119.410004  117.750000  118.300003  37658700   \n",
      "\n",
      "    Adj Close  \n",
      "0  119.029999  \n",
      "1  115.199997  \n",
      "2  116.279999  \n",
      "3  117.339996  \n",
      "4  118.300003  \n",
      "            Date       Open       High     Low   Close     Volume  Adj Close\n",
      "8817  1980-12-18  26.625000  26.750000  26.625  26.625   18362400   0.404088\n",
      "8818  1980-12-17  25.875000  25.999999  25.875  25.875   21610400   0.392705\n",
      "8819  1980-12-16  25.375000  25.375000  25.250  25.250   26432000   0.383220\n",
      "8820  1980-12-15  27.375001  27.375001  27.250  27.250   43971200   0.413574\n",
      "8821  1980-12-12  28.750000  28.875000  28.750  28.750  117258400   0.436339\n",
      "          Date        Open        High         Low       Close    Volume  \\\n",
      "10  2015-11-19  117.639999  119.750000  116.760002  118.779999  43295800   \n",
      "11  2015-11-18  115.760002  117.489998  115.500000  117.290001  46674700   \n",
      "12  2015-11-17  114.919998  115.050003  113.320000  113.690002  27616900   \n",
      "13  2015-11-16  111.379997  114.239998  111.000000  114.180000  38106700   \n",
      "14  2015-11-13  115.199997  115.570000  112.269997  112.339996  45812400   \n",
      "15  2015-11-12  116.260002  116.820000  115.650002  115.720001  32525600   \n",
      "16  2015-11-11  116.370003  117.419998  115.209999  116.110001  45218000   \n",
      "17  2015-11-10  116.900002  118.070000  116.059998  116.769997  59127900   \n",
      "18  2015-11-09  120.959999  121.809998  120.050003  120.570000  33871400   \n",
      "19  2015-11-06  121.110001  121.809998  120.620003  121.059998  33042300   \n",
      "20  2015-11-05  121.849998  122.690002  120.180000  120.919998  39552700   \n",
      "\n",
      "     Adj Close  \n",
      "10  118.779999  \n",
      "11  117.290001  \n",
      "12  113.690002  \n",
      "13  114.180000  \n",
      "14  112.339996  \n",
      "15  115.720001  \n",
      "16  116.110001  \n",
      "17  116.769997  \n",
      "18  120.570000  \n",
      "19  121.059998  \n",
      "20  120.919998  \n"
     ]
    }
   ],
   "source": [
    "def test_run():\n",
    "    df = pd.read_csv(\"data/AAPL.csv\")\n",
    "    print df.head() # print entire df\n",
    "    print df.tail()\n",
    "    print df[10:21] # rows between index 10 and 20 - slicing\n",
    "    \n",
    "test_run()\n",
    "    "
   ]
  },
  {
   "cell_type": "code",
   "execution_count": 10,
   "metadata": {
    "collapsed": false
   },
   "outputs": [
    {
     "name": "stdout",
     "output_type": "stream",
     "text": [
      " Max close\n",
      "AAPL 702.100021\n",
      "Max close\n",
      "IBM 649.000015\n"
     ]
    }
   ],
   "source": [
    "def get_max_close(symbol):\n",
    "    '''Return the maximum closing value for stock indicated by symbol.\n",
    "    \n",
    "    Note: Data for a stock is stored in file: data/<symbol>/csv\n",
    "    '''\n",
    "    \n",
    "    df = pd.read_csv(\"data/{}.csv\".format(symbol)) # read in the data\n",
    "    return df['Close'].max() # compare the closing values and return max\n",
    "\n",
    "for symbol in ['AAPL', 'IBM']:\n",
    "    print \"Max close\"\n",
    "    print symbol, get_max_close(symbol)\n",
    "    \n",
    "    "
   ]
  },
  {
   "cell_type": "code",
   "execution_count": 12,
   "metadata": {
    "collapsed": false
   },
   "outputs": [
    {
     "name": "stdout",
     "output_type": "stream",
     "text": [
      "Mean volume\n",
      "AAPL 92248294.9898\n",
      "Mean volume\n",
      "IBM 4891817.14054\n"
     ]
    }
   ],
   "source": [
    "def get_mean_volume(symbol):\n",
    "    '''Return the mean volume for stock indicated by symbol.\n",
    "    \n",
    "    Note: Data for a stock is stored in file: data/<symbol>/csv\n",
    "    '''\n",
    "    \n",
    "    df = pd.read_csv(\"data/{}.csv\".format(symbol)) # read in the data\n",
    "    return df['Volume'].mean() # compare the closing values and return max\n",
    "\n",
    "for symbol in ['AAPL', 'IBM']:\n",
    "    print \"Mean volume\"\n",
    "    print symbol, get_mean_volume(symbol)"
   ]
  },
  {
   "cell_type": "code",
   "execution_count": 15,
   "metadata": {
    "collapsed": false
   },
   "outputs": [
    {
     "name": "stdout",
     "output_type": "stream",
     "text": [
      "0    119.029999\n",
      "1    115.199997\n",
      "2    116.279999\n",
      "3    117.339996\n",
      "4    118.300003\n",
      "Name: Adj Close, dtype: float64\n"
     ]
    }
   ],
   "source": [
    "# Plot Adjusted Close prices for AAPL\n",
    "\n",
    "df = pd.read_csv('data/AAPL.csv')\n",
    "print df['Adj Close'].head()\n",
    "df['Adj Close'].plot()\n",
    "plt.show()"
   ]
  },
  {
   "cell_type": "code",
   "execution_count": 16,
   "metadata": {
    "collapsed": false
   },
   "outputs": [
    {
     "name": "stdout",
     "output_type": "stream",
     "text": [
      "0    141.020004\n",
      "1    140.729996\n",
      "2    141.210007\n",
      "3    141.399994\n",
      "4    139.899994\n",
      "Name: High, dtype: float64\n"
     ]
    }
   ],
   "source": [
    "# Plot high prices for IBM\n",
    "\n",
    "df = pd.read_csv('data/IBM.csv')\n",
    "print df['High'].head()\n",
    "df['High'].plot()\n",
    "plt.show()"
   ]
  },
  {
   "cell_type": "code",
   "execution_count": null,
   "metadata": {
    "collapsed": false
   },
   "outputs": [],
   "source": [
    "# Plot 2 columns on one graph\n",
    "\n",
    "df = pd.read_csv('data/AAPL.csv')\n",
    "print df[['Close', 'Adj Close']].head()\n",
    "df[['Close', 'Adj Close']].plot()\n",
    "plt.show()"
   ]
  },
  {
   "cell_type": "code",
   "execution_count": null,
   "metadata": {
    "collapsed": true
   },
   "outputs": [],
   "source": []
  }
 ],
 "metadata": {
  "kernelspec": {
   "display_name": "Python 2",
   "language": "python",
   "name": "python2"
  },
  "language_info": {
   "codemirror_mode": {
    "name": "ipython",
    "version": 2
   },
   "file_extension": ".py",
   "mimetype": "text/x-python",
   "name": "python",
   "nbconvert_exporter": "python",
   "pygments_lexer": "ipython2",
   "version": "2.7.5"
  }
 },
 "nbformat": 4,
 "nbformat_minor": 0
}
