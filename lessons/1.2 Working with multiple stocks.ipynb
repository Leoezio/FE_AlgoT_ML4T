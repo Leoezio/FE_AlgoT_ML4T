{
 "cells": [
  {
   "cell_type": "markdown",
   "metadata": {},
   "source": [
    "Problems to solve:\n",
    "* Date ranges\n",
    "* Multiple stocks\n",
    "* Align dates\n",
    "* Proper date order"
   ]
  },
  {
   "cell_type": "code",
   "execution_count": 4,
   "metadata": {
    "collapsed": true
   },
   "outputs": [],
   "source": [
    "import pandas as pd\n",
    "import matplotlib.pyplot as plt\n",
    "import os\n",
    "%matplotlib inline"
   ]
  },
  {
   "cell_type": "code",
   "execution_count": 5,
   "metadata": {
    "collapsed": false
   },
   "outputs": [],
   "source": [
    "# Define date range\n",
    "start_date = '2010-01-01'\n",
    "end_date = '2010-12-31'\n",
    "dates = pd.date_range(start_date, end_date)\n",
    "\n",
    "def symbol_to_path(symbol, base_dir = 'data'):\n",
    "    '''Return CSV file path given ticker symbol'''\n",
    "    return os.path.join(base_dir, '{}.csv'.format(str(symbol)))\n",
    "\n",
    "def get_data(symbols, dates):\n",
    "    '''Read stock data (adjusted close) given symbols, from CSV files'''\n",
    "    df = pd.DataFrame(index = dates)\n",
    "    if 'SPY' not in symbols:  # Add SPY for reference, if absent\n",
    "        symbols.insert(0,'SPY')\n",
    "    for symbol in symbols:\n",
    "        df_temp = pd.read_csv(symbol_to_path(symbol), \n",
    "                          index_col = 'Date', \n",
    "                          parse_dates = True, \n",
    "                          usecols = ['Date', 'Adj Close'], \n",
    "                          na_values = ['nan'])\n",
    "        df_temp = df_temp.rename(columns = {'Adj Close': symbol})\n",
    "        df = df.join(df_temp)\n",
    "        if symbol == 'SPY': # drop dates SPY did not trade\n",
    "            df = df.dropna(subset=['SPY'])\n",
    "    return df"
   ]
  },
  {
   "cell_type": "code",
   "execution_count": 6,
   "metadata": {
    "collapsed": false
   },
   "outputs": [],
   "source": [
    "# Plotting\n",
    "\n",
    "def plot_data(df, title = 'Stock prices'):\n",
    "    '''Plot stock prices'''\n",
    "    ax = df.plot(title = title, fontsize = 12)\n",
    "    ax.set_xlabel('Date')\n",
    "    ax.set_ylabel('Price')\n",
    "    plt.show()\n",
    "    \n",
    "# plot_data(df)\n",
    "\n",
    "def plot_selected(df, columns, start_index, end_index):\n",
    "    '''PLot the desired columns over index values in the\n",
    "    given range.'''\n",
    "    df = df.ix[start_index:end_index,columns]\n",
    "    plot_data(df, title = 'Selected Stock Prices')\n",
    "    \n",
    "columns = ['SPY', 'IBM']\n",
    "start_index = '2010-01-01'\n",
    "end_index = '2010-01-31'\n",
    "\n",
    "symbols = ['GOOG', 'IBM', 'GLD']\n",
    "\n",
    "df =  get_data(symbols, dates)\n",
    "\n",
    "plot_selected(df, columns, start_index, end_index)"
   ]
  },
  {
   "cell_type": "code",
   "execution_count": 12,
   "metadata": {
    "collapsed": false
   },
   "outputs": [],
   "source": [
    "def normalize_data(df):\n",
    "    '''Normalize stock prices using the first row of data frame.'''\n",
    "    return df/df.ix[0,:]\n",
    "\n",
    "df =  get_data(symbols, dates)\n",
    "\n",
    "df1 = normalize_data(df)\n",
    "\n",
    "plot_data(df1)\n"
   ]
  },
  {
   "cell_type": "code",
   "execution_count": null,
   "metadata": {
    "collapsed": true
   },
   "outputs": [],
   "source": []
  }
 ],
 "metadata": {
  "kernelspec": {
   "display_name": "Python 2",
   "language": "python",
   "name": "python2"
  },
  "language_info": {
   "codemirror_mode": {
    "name": "ipython",
    "version": 2
   },
   "file_extension": ".py",
   "mimetype": "text/x-python",
   "name": "python",
   "nbconvert_exporter": "python",
   "pygments_lexer": "ipython2",
   "version": "2.7.5"
  }
 },
 "nbformat": 4,
 "nbformat_minor": 0
}
