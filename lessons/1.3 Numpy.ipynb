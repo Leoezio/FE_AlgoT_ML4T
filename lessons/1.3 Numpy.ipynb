{
 "cells": [
  {
   "cell_type": "markdown",
   "metadata": {},
   "source": [
    "Motivation and summary\n",
    "* Syntax to access ndarray (n-dim array):  nd1 = df.values\n",
    "* df gives more methods\n",
    "* addressing: nd[row, column], 0 indexed\n",
    "* nd[0:3, 1:3] - uses slices. last value is one past what you want\n",
    "* nd[:,1:3] - colon indicates 'all'\n",
    "* nd[-1:-2, :] - last two rows, all columns\n",
    "* nd[-3:, :] - last three rows, all columns"
   ]
  },
  {
   "cell_type": "code",
   "execution_count": 1,
   "metadata": {
    "collapsed": true
   },
   "outputs": [],
   "source": [
    "import numpy as np"
   ]
  },
  {
   "cell_type": "code",
   "execution_count": 6,
   "metadata": {
    "collapsed": false
   },
   "outputs": [
    {
     "name": "stdout",
     "output_type": "stream",
     "text": [
      "[2 3 4]\n",
      "[2 3 4]\n"
     ]
    }
   ],
   "source": [
    "# one dimensional array - can pass list or tuple\n",
    "\n",
    "print np.array([2,3,4])\n",
    "print np.array((2,3,4))"
   ]
  },
  {
   "cell_type": "code",
   "execution_count": 7,
   "metadata": {
    "collapsed": false
   },
   "outputs": [
    {
     "name": "stdout",
     "output_type": "stream",
     "text": [
      "[[2 3 4]\n",
      " [5 6 7]]\n",
      "[[2 3 4]\n",
      " [5 6 7]]\n"
     ]
    }
   ],
   "source": [
    "# 2D array - note the use of tuples. list of lists also works\n",
    "\n",
    "print np.array([(2,3,4), (5,6,7)])\n",
    "print np.array([[2,3,4], [5,6,7]])"
   ]
  },
  {
   "cell_type": "code",
   "execution_count": 10,
   "metadata": {
    "collapsed": false
   },
   "outputs": [
    {
     "name": "stdout",
     "output_type": "stream",
     "text": [
      "[  0.00000000e+000  -1.35058369e-315   2.15356540e-314   2.15357793e-314\n",
      "   2.15357796e-314]\n",
      "[[  0.00000000e+000   1.49166824e-154   2.12325858e-314   2.16245110e-314\n",
      "    2.12581833e-314]\n",
      " [  2.16243177e-314   2.12326980e-314   2.16243200e-314   2.12581833e-314\n",
      "    2.16243165e-314]\n",
      " [  2.12326980e-314   2.16243191e-314   2.12581833e-314   2.16243203e-314\n",
      "    2.12326980e-314]\n",
      " [  2.16243141e-314   2.12581833e-314   2.16243163e-314   2.12326980e-314\n",
      "    2.16243153e-314]\n",
      " [  2.12343360e-314   2.16245110e-314   2.12326980e-314   2.16243189e-314\n",
      "    2.12343360e-314]]\n"
     ]
    }
   ],
   "source": [
    "# print empty array\n",
    "\n",
    "print np.empty(5) # 1D empty array\n",
    "print np.empty((5,5)) # 2D empty array. note tuple"
   ]
  },
  {
   "cell_type": "code",
   "execution_count": 13,
   "metadata": {
    "collapsed": false
   },
   "outputs": [
    {
     "name": "stdout",
     "output_type": "stream",
     "text": [
      "[[ 1.  1.  1.  1.]\n",
      " [ 1.  1.  1.  1.]\n",
      " [ 1.  1.  1.  1.]]\n",
      "[[1 1 1 1]\n",
      " [1 1 1 1]\n",
      " [1 1 1 1]]\n"
     ]
    }
   ],
   "source": [
    "# array of ones\n",
    "\n",
    "print np.ones((3,4))  # default data type is float\n",
    "\n",
    "print np.ones((3,4), dtype = np.int)"
   ]
  },
  {
   "cell_type": "code",
   "execution_count": 14,
   "metadata": {
    "collapsed": false
   },
   "outputs": [
    {
     "name": "stdout",
     "output_type": "stream",
     "text": [
      "[[ 0.  0.]\n",
      " [ 0.  0.]\n",
      " [ 0.  0.]]\n"
     ]
    }
   ],
   "source": [
    "# array of zeros\n",
    "\n",
    "print np.zeros((3,2))"
   ]
  },
  {
   "cell_type": "code",
   "execution_count": 16,
   "metadata": {
    "collapsed": false
   },
   "outputs": [
    {
     "name": "stdout",
     "output_type": "stream",
     "text": [
      "[[ 0.4450037   0.80977716  0.39460639  0.04930945]\n",
      " [ 0.73568294  0.82136237  0.70595664  0.27659673]\n",
      " [ 0.56765983  0.70184593  0.31991073  0.24659167]\n",
      " [ 0.41405919  0.49505704  0.90205291  0.26180955]\n",
      " [ 0.91370921  0.92041774  0.53839341  0.25226466]]\n",
      "[[ 0.58647172  0.50605311  0.68668773  0.77851397]\n",
      " [ 0.43266068  0.66881668  0.51630004  0.86802288]\n",
      " [ 0.99387208  0.58729772  0.74717489  0.42220703]\n",
      " [ 0.38567612  0.08020489  0.71560236  0.84438312]\n",
      " [ 0.09352509  0.71340497  0.84470398  0.75784184]]\n"
     ]
    }
   ],
   "source": [
    "# Random values from [0.0, 1.0)\n",
    "\n",
    "print np.random.random((5,4))\n",
    "\n",
    "print np.random.rand(5,4)  # rand doesn't require a tuple"
   ]
  },
  {
   "cell_type": "code",
   "execution_count": 19,
   "metadata": {
    "collapsed": false
   },
   "outputs": [
    {
     "name": "stdout",
     "output_type": "stream",
     "text": [
      "[[-0.64316626 -1.31473578 -1.05694952]\n",
      " [-0.17201293  1.00575489  1.57400936]]\n",
      "[[ 43.07153392  48.36602628  55.93987215]\n",
      " [ 57.42467779  63.45993376  55.34174127]]\n"
     ]
    }
   ],
   "source": [
    "# Sample numbers from a Gaussian (normal) distribution\n",
    "\n",
    "print np.random.normal(size = (2,3)) # standard normal\n",
    "\n",
    "print np.random.normal(50,10, size = (2,3)) # mean 50, sd 10"
   ]
  },
  {
   "cell_type": "code",
   "execution_count": 4,
   "metadata": {
    "collapsed": false
   },
   "outputs": [
    {
     "name": "stdout",
     "output_type": "stream",
     "text": [
      "1\n",
      "3\n",
      "[5 9 1 4 3]\n",
      "[[3 7 2]\n",
      " [8 2 1]]\n"
     ]
    }
   ],
   "source": [
    "# Random integers\n",
    "\n",
    "print np.random.randint(10) # a single integer in [0, 10)\n",
    "print np.random.randint(0, 10) # a random integer [low, high)\n",
    "print np.random.randint(0, 10, size = 5) # 5 random integers as a 1D array\n",
    "print np.random.randint(0,10, size = (2,3)) # Random integers between [0, 10) as a 2x3 array"
   ]
  },
  {
   "cell_type": "code",
   "execution_count": 11,
   "metadata": {
    "collapsed": false
   },
   "outputs": [
    {
     "name": "stdout",
     "output_type": "stream",
     "text": [
      "(5, 4)\n",
      "5\n",
      "4\n",
      "2\n",
      "20\n",
      "float64\n"
     ]
    }
   ],
   "source": [
    "# Numpy array attributes\n",
    "\n",
    "a = np.random.random((5,4))\n",
    "# print a\n",
    "print a.shape  # attribute shape gives dimensions of array\n",
    "print a.shape[0] # number of rows\n",
    "print a.shape[1] # number of columns\n",
    "print len(a.shape) # gives number of dimensions\n",
    "print a.size # gives number of elements\n",
    "print a.dtype # gives the data type of the elements"
   ]
  },
  {
   "cell_type": "code",
   "execution_count": 17,
   "metadata": {
    "collapsed": false
   },
   "outputs": [
    {
     "name": "stdout",
     "output_type": "stream",
     "text": [
      "[[2 0 5 1]\n",
      " [1 3 4 4]\n",
      " [9 2 9 1]\n",
      " [9 3 7 5]\n",
      " [4 7 0 3]]\n",
      "Sum of all elements: 79\n",
      "Sum of each column: [25 15 25 14]\n",
      "Sum of each row: [ 8 12 21 24 14]\n",
      "Min of columns: [1 0 0 1]\n",
      "Max of rows: [5 4 9 9 7]\n",
      "Mean of all elements: 3.95\n"
     ]
    }
   ],
   "source": [
    "# Operations on arrays\n",
    "\n",
    "np.random.seed(693)\n",
    "a = np.random.randint(0,10, size = (5, 4))\n",
    "print a\n",
    "\n",
    "# Sum of all elements\n",
    "print 'Sum of all elements:', a.sum()\n",
    "\n",
    "# Sum by axis. Think of this as which dimension\n",
    "# is being collapsed, or which dimension you're\n",
    "# iterating over\n",
    "print 'Sum of each column:', a.sum(axis=0)\n",
    "print 'Sum of each row:', a.sum(axis=1)\n",
    "\n",
    "# Stats: min, max, mean (rows, cols, overall)\n",
    "print 'Min of columns:', a.min(axis=0)\n",
    "print 'Max of rows:', a.max(axis=1)\n",
    "print 'Mean of all elements:', a.mean()"
   ]
  },
  {
   "cell_type": "code",
   "execution_count": 19,
   "metadata": {
    "collapsed": false
   },
   "outputs": [
    {
     "name": "stdout",
     "output_type": "stream",
     "text": [
      "Maximum value: 14\n",
      "Index of max: 5\n"
     ]
    }
   ],
   "source": [
    "# Locate the maximum value\n",
    "\n",
    "def get_max_index(a):\n",
    "    '''Return the index of the max value in a \n",
    "    given 1D array'''\n",
    "    return a.argmax()\n",
    "\n",
    "a = np.array([9,6,2,3,12,14,7,10], dtype=np.int32)\n",
    "print \"Maximum value:\", a.max()\n",
    "print \"Index of max:\", get_max_index(a)\n",
    "\n",
    "# Tougher for multi-dimensional arrays. Numpy offers\n",
    "# unravel_index() (???) to help"
   ]
  },
  {
   "cell_type": "code",
   "execution_count": 23,
   "metadata": {
    "collapsed": false
   },
   "outputs": [
    {
     "name": "stdout",
     "output_type": "stream",
     "text": [
      "Numpy is  363.98703982  times faster than manual\n"
     ]
    }
   ],
   "source": [
    "# Utilizing the time function\n",
    "\n",
    "from time import time\n",
    "\n",
    "def how_long(func, *args):\n",
    "    '''Execute function with given arguments, and\n",
    "    measure execution time.'''\n",
    "    t0 = time()\n",
    "    result = func(*args)\n",
    "    t1 = time()\n",
    "    return result, t1 - t0\n",
    "    \n",
    "def manual_mean(arr):\n",
    "    '''Compute mean of all elements in a 2D array'''\n",
    "    sum = 0\n",
    "    for i in xrange(0, arr.shape[0]):\n",
    "        for j in xrange(0, arr.shape[1]):\n",
    "            sum += arr[i,j]\n",
    "    return sum / arr.size\n",
    "\n",
    "def numpy_mean(arr):\n",
    "    return arr.mean()\n",
    "\n",
    "nd1 = np.random.random((1000, 10000))\n",
    "\n",
    "res_manual, t_manual = how_long(manual_mean, nd1)\n",
    "res_numpy, t_numpy = how_long(numpy_mean, nd1)\n",
    "speedup = t_manual / t_numpy\n",
    "\n",
    "print 'Numpy is ', speedup, ' times faster than manual'"
   ]
  },
  {
   "cell_type": "code",
   "execution_count": 36,
   "metadata": {
    "collapsed": false
   },
   "outputs": [
    {
     "name": "stdout",
     "output_type": "stream",
     "text": [
      "0.828503186179\n",
      "[ 0.94173764  0.6644467 ]\n",
      "[[ 0.05444369  0.94173764]\n",
      " [ 0.47564131  0.82204461]]\n",
      "[[ 0.05444369  0.6644467 ]\n",
      " [ 0.47564131  0.92555613]\n",
      " [ 0.43719997  0.69572763]\n",
      " [ 0.38208187  0.82850319]\n",
      " [ 0.79180428  0.56134387]]\n",
      "[[ 0.05444369  0.6644467 ]\n",
      " [ 0.47564131  0.92555613]\n",
      " [ 0.43719997  0.69572763]\n",
      " [ 0.38208187  0.82850319]\n",
      " [ 0.79180428  0.56134387]]\n",
      "[[ 2.          2.          2.          1.        ]\n",
      " [ 0.47564131  0.82204461  0.92555613  2.        ]\n",
      " [ 0.43719997  0.81071398  0.69572763  3.        ]\n",
      " [ 0.38208187  0.10815384  0.82850319  4.        ]\n",
      " [ 0.79180428  0.34305145  0.56134387  5.        ]]\n"
     ]
    }
   ],
   "source": [
    "# Accessing array elements\n",
    "\n",
    "a = np.random.rand(5,4)\n",
    "\n",
    "# Access element at postion (3, 2) # remember 0 indexing!\n",
    "print a[3,2]\n",
    "\n",
    "# Elements in defined range\n",
    "print a[0, 1:3]\n",
    "print a[0:2, 0:2]\n",
    "print a[:, 0:3:2] # 0 to 3 is steps of size 2\n",
    "print a[:, [0,2]] # same thing with a list\n",
    "\n",
    "# assign values to specific elements\n",
    "\n",
    "a[0,0] = 1 # replace one element\n",
    "\n",
    "a[0, :] = 2 # replace the entire first row\n",
    "\n",
    "a[:, 3] = [1, 2, 3, 4, 5]\n",
    "\n",
    "print a"
   ]
  },
  {
   "cell_type": "code",
   "execution_count": 38,
   "metadata": {
    "collapsed": false
   },
   "outputs": [
    {
     "name": "stdout",
     "output_type": "stream",
     "text": [
      "[ 0.60263762  0.65670023  0.8299399   0.51057838  0.31339286]\n",
      "[ 0.65670023  0.65670023  0.8299399   0.51057838]\n"
     ]
    }
   ],
   "source": [
    "# Indexing an array with another array\n",
    "\n",
    "a = np.random.rand(5)\n",
    "print a\n",
    "\n",
    "indices = np.array([1,1,2,3])\n",
    "\n",
    "print a[indices]"
   ]
  },
  {
   "cell_type": "code",
   "execution_count": 44,
   "metadata": {
    "collapsed": false
   },
   "outputs": [
    {
     "name": "stdout",
     "output_type": "stream",
     "text": [
      "[[20 25 10 23 26 32 10  5  0]\n",
      " [ 0  2 50 20  0  1 28  5  0]]\n",
      "14.2777777778\n",
      "[10 10  5  0  0  2  0  1  5  0]\n",
      "[[20 25 14 23 26 32 14 14 14]\n",
      " [14 14 50 20 14 14 28 14 14]]\n"
     ]
    }
   ],
   "source": [
    "# Boolean or Mask index arrays\n",
    "\n",
    "a = np.array([(20, 25, 10, 23, 26, 32, 10, 5, 0),\n",
    "              (0, 2, 50, 20, 0, 1, 28, 5, 0)])\n",
    "print a\n",
    "\n",
    "mean = a.mean()\n",
    "print mean\n",
    "\n",
    "# Masking\n",
    "print a[a < mean]\n",
    "\n",
    "# Replacement\n",
    "\n",
    "a[a < mean] = mean\n",
    "print a"
   ]
  },
  {
   "cell_type": "code",
   "execution_count": 4,
   "metadata": {
    "collapsed": false
   },
   "outputs": [
    {
     "name": "stdout",
     "output_type": "stream",
     "text": [
      "[[ 1  2  3  4  5]\n",
      " [10 20 30 40 50]]\n",
      "[[  2   4   6   8  10]\n",
      " [ 20  40  60  80 100]]\n",
      "[[101 202 303 404 505]\n",
      " [ 11  22  33  44  55]]\n",
      "[[ 100  400  900 1600 2500]\n",
      " [  10   40   90  160  250]]\n"
     ]
    }
   ],
   "source": [
    "# Arithmetic operations (1.3.21)\n",
    "\n",
    "# always applied element-wise\n",
    "\n",
    "a = np.array([(1, 2, 3, 4, 5),\n",
    "              (10, 20, 30, 40, 50)])\n",
    "\n",
    "print a\n",
    "\n",
    "print 2 * a\n",
    "\n",
    "b = np.array([(100, 200, 300, 400, 500),\n",
    "              (1, 2, 3, 4, 5)])\n",
    "\n",
    "print a + b\n",
    "\n",
    "print a * b # element-wise multiplication"
   ]
  },
  {
   "cell_type": "code",
   "execution_count": null,
   "metadata": {
    "collapsed": true
   },
   "outputs": [],
   "source": []
  }
 ],
 "metadata": {
  "kernelspec": {
   "display_name": "Python 2",
   "language": "python",
   "name": "python2"
  },
  "language_info": {
   "codemirror_mode": {
    "name": "ipython",
    "version": 2
   },
   "file_extension": ".py",
   "mimetype": "text/x-python",
   "name": "python",
   "nbconvert_exporter": "python",
   "pygments_lexer": "ipython2",
   "version": "2.7.5"
  }
 },
 "nbformat": 4,
 "nbformat_minor": 0
}
