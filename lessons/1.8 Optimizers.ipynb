{
 "cells": [
  {
   "cell_type": "code",
   "execution_count": 3,
   "metadata": {
    "collapsed": true
   },
   "outputs": [],
   "source": [
    "import pandas as pd\n",
    "import matplotlib.pyplot as plt\n",
    "import numpy as np\n",
    "import scipy.optimize as spo\n",
    "\n",
    "%matplotlib inline"
   ]
  },
  {
   "cell_type": "code",
   "execution_count": 4,
   "metadata": {
    "collapsed": true
   },
   "outputs": [],
   "source": [
    "def f(x):\n",
    "    '''Given a scalar x, return some value'''\n",
    "    y = (x-1.5)**2 + 0.5\n",
    "    print 'x = {}, y = {}'.format(x,y) # for tracing\n",
    "    return y"
   ]
  },
  {
   "cell_type": "code",
   "execution_count": 5,
   "metadata": {
    "collapsed": false
   },
   "outputs": [
    {
     "name": "stdout",
     "output_type": "stream",
     "text": [
      "x = [ 2.], y = [ 0.75]\n",
      "x = [ 2.], y = [ 0.75]\n",
      "x = [ 2.00000001], y = [ 0.75000001]\n",
      "x = [ 0.99999999], y = [ 0.75000001]\n",
      "x = [ 1.5], y = [ 0.5]\n",
      "x = [ 1.5], y = [ 0.5]\n",
      "x = [ 1.50000001], y = [ 0.5]\n",
      "Optimization terminated successfully.    (Exit mode 0)\n",
      "            Current function value: [ 0.5]\n",
      "            Iterations: 2\n",
      "            Function evaluations: 7\n",
      "            Gradient evaluations: 2\n",
      "Minimum found at:\n",
      "X = [ 1.5], Y = [ 0.5]\n",
      "x = [ 0.5  0.6  0.7  0.8  0.9  1.   1.1  1.2  1.3  1.4  1.5  1.6  1.7  1.8  1.9\n",
      "  2.   2.1  2.2  2.3  2.4  2.5], y = [ 1.5   1.31  1.14  0.99  0.86  0.75  0.66  0.59  0.54  0.51  0.5   0.51\n",
      "  0.54  0.59  0.66  0.75  0.86  0.99  1.14  1.31  1.5 ]\n"
     ]
    },
    {
     "data": {
      "text/plain": [
       "<matplotlib.text.Text at 0x108144390>"
      ]
     },
     "execution_count": 5,
     "metadata": {},
     "output_type": "execute_result"
    },
    {
     "data": {
      "image/png": "[encoded data removed]",
      "text/plain": [
       "<matplotlib.figure.Figure at 0x108019a50>"
      ]
     },
     "metadata": {},
     "output_type": "display_data"
    }
   ],
   "source": [
    "x_guess = 2.0\n",
    "\n",
    "min_result = spo.minimize(f, x_guess, \n",
    "                          method = 'SLSQP', \n",
    "                          options = {'disp': True})\n",
    "\n",
    "print \"Minimum found at:\"\n",
    "print 'X = {}, Y = {}'.format(min_result.x, min_result.fun)\n",
    "\n",
    "# Plot function values, mark minima\n",
    "Xplot = np.linspace(0.5, 2.5, 21)\n",
    "Yplot = f(Xplot)\n",
    "plt.plot(Xplot, Yplot)\n",
    "plt.plot(min_result.x, min_result.fun, 'ro')\n",
    "plt.title('Minimum of an objective function')"
   ]
  },
  {
   "cell_type": "markdown",
   "metadata": {
    "collapsed": true
   },
   "source": [
    "Convex problems are easy for optimizers to solve. A real-valued function is convex if a line segment connecting any two points on the graph is above the graph.\n",
    "\n",
    "To calculate parameters of a model, minimize the absolute error or the sum of squared errors from the predicted values of the model to the actual observed values of the data."
   ]
  },
  {
   "cell_type": "code",
   "execution_count": 17,
   "metadata": {
    "collapsed": true
   },
   "outputs": [],
   "source": [
    "def error(line, data): # error function\n",
    "    '''Compute error between given line model and observed data\n",
    "    \n",
    "    Parameters\n",
    "    ----------\n",
    "    line: tuple/list/array (C0, C1) where C0 is slope and C1 is y-intercept\n",
    "    data: 2D array where each row is an (x,y) point\n",
    "    \n",
    "    Returns error as a single real value\n",
    "    '''\n",
    "    err = np.sum((data[:,1] - (line[0] * data[:,0] + line[1]))**2)\n",
    "    return err\n",
    "\n",
    "def fit_line(data, error_func):\n",
    "    '''Fit a line to given data, using a supplied error function.\n",
    "    \n",
    "    Parameters\n",
    "    ----------\n",
    "    data: 2D array where each row is a point (X0, Y)\n",
    "    error_func: function that computes the error between a line and \n",
    "    observed data.\n",
    "    \n",
    "    Returns line that minimizes the error function.'''\n",
    "    \n",
    "    # Generate initial guess for line model\n",
    "    l = np.float32([0, np.mean(data[:,1])]) # slope = 0, intercept = mean(y)\n",
    "    \n",
    "    # Plot initial guess (optional)\n",
    "    x_ends = np.float32([-5,5])\n",
    "    plt.plot(x_ends, l[0]* x_ends + l[1], 'm--', linewidth = 2.0, label = 'Initial guess')\n",
    "    \n",
    "    # call optimizer to minimize error function\n",
    "    result = spo.minimize(error_func, l, args=(data,), method = 'SLSQP',\n",
    "                         options = {'disp': True})\n",
    "    return result.x\n",
    "    "
   ]
  },
  {
   "cell_type": "code",
   "execution_count": 21,
   "metadata": {
    "collapsed": false
   },
   "outputs": [
    {
     "name": "stdout",
     "output_type": "stream",
     "text": [
      "Original line: C0 = 4.0, C1 = 2.0\n",
      "Optimization terminated successfully.    (Exit mode 0)\n",
      "            Current function value: 137.389759492\n",
      "            Iterations: 5\n",
      "            Function evaluations: 24\n",
      "            Gradient evaluations: 5\n",
      "Fitted line: C0 = 4.11257243315, C1 = -3.11514127584\n"
     ]
    },
    {
     "data": {
      "text/plain": [
       "<matplotlib.legend.Legend at 0x108beca90>"
      ]
     },
     "execution_count": 21,
     "metadata": {},
     "output_type": "execute_result"
    },
    {
     "data": {
      "image/png": "[encoded data removed]",
      "text/plain": [
       "<matplotlib.figure.Figure at 0x1088d8c10>"
      ]
     },
     "metadata": {},
     "output_type": "display_data"
    }
   ],
   "source": [
    "# define original line\n",
    "l_orig = np.float32([4,2])\n",
    "print 'Original line: C0 = {}, C1 = {}'.format(l_orig[0], l_orig[1])\n",
    "Xorig = np.linspace(0,10,21)\n",
    "Yorig = l_orig[0] * Xorig - l_orig[1]\n",
    "plt.plot(Xorig, Yorig, 'b--', linewidth = 2.0, label = 'Original line')\n",
    "\n",
    "# Generate noisy data points\n",
    "noise_sigma = 3.0\n",
    "noise = np.random.normal(0, noise_sigma, Yorig.shape)\n",
    "data = np.asarray([Xorig, Yorig + noise]).T\n",
    "plt.plot(data[:,0], data[:,1], 'go', label = 'Data points')\n",
    "\n",
    "# Try to fit a line to this data\n",
    "l_fit = fit_line(data, error)\n",
    "print 'Fitted line: C0 = {}, C1 = {}'.format(l_fit[0], l_fit[1])\n",
    "plt.plot(data[:,0], l_fit[0] * data[:, 0] + l_fit[1], 'r--', linewidth = 2.0, label = 'Fitted line')\n",
    "\n",
    "# Add a legend\n",
    "plt.legend(loc = 'upper left')"
   ]
  },
  {
   "cell_type": "code",
   "execution_count": 1,
   "metadata": {
    "collapsed": false
   },
   "outputs": [
    {
     "name": "stdout",
     "output_type": "stream",
     "text": [
      "-2.80000023167e-10\n",
      "-2.7997265617e-10\n",
      "Bad guess:\n",
      "  NIT    FC           OBJFUN            GNORM\n",
      "    1     5     2.500000E-01     1.732051E+00\n",
      "    2    10    -1.989102E+00     1.148965E+01\n",
      "    3    16    -3.135898E+00     1.708600E+01\n",
      "    4    22    -4.649336E+00     2.489237E+01\n",
      "    5    27    -2.680259E+09     2.188592E+17\n",
      "    6    42    -2.888741E+04     1.174336E+08\n",
      "    7    47    -3.247801E+04     1.320311E+08\n",
      "Optimization terminated successfully.    (Exit mode 0)\n",
      "            Current function value: -32478.0130442\n",
      "            Iterations: 7\n",
      "            Function evaluations: 48\n",
      "            Gradient evaluations: 7\n",
      "[  2.45949588e-04   1.99926209e+00   9.99754020e-01]\n",
      "Good guess:\n",
      "  NIT    FC           OBJFUN            GNORM\n",
      "    1     5    -4.606130E-02     1.727460E+00\n",
      "    2    10    -5.372100E+01     8.962764E+02\n",
      "    3    15    -2.529199E+09     2.151514E+17\n",
      "    4    30    -1.373916E+05     2.373880E+09\n",
      "    5    35    -1.381482E+05     2.386957E+09\n",
      "Optimization terminated successfully.    (Exit mode 0)\n",
      "            Current function value: -138148.242928\n",
      "            Iterations: 5\n",
      "            Function evaluations: 36\n",
      "            Gradient evaluations: 5\n",
      "[  5.78882772e-05   1.99982633e+00   9.99942110e-01]\n"
     ]
    }
   ],
   "source": [
    "# Optimization with constraints and boundaries\n",
    "\n",
    "import numpy as np\n",
    "from scipy.optimize import fmin_slsqp as opt\n",
    "from math import log\n",
    "\n",
    "def f(x):\n",
    "    x, y, z = x\n",
    "    return (x - y + z)**2 + (y - x)**3/(z * log(z))\n",
    "\n",
    "def constraint_1(x):\n",
    "    x, y, z = x\n",
    "    return (x + y - 2*z)\n",
    "\n",
    "def constraint_2(x):\n",
    "    x, _, z = x\n",
    "    return x + z * log(z)\n",
    "\n",
    "# x = -z * log(z)\n",
    "# y = 2*z - x\n",
    "# y = z(2 + log(z))\n",
    "\n",
    "\n",
    "good_guess = (0.34657359, 0.65342640972, 0.5 )\n",
    "\n",
    "guess = np.array([0.5, 0.5, 0.5])\n",
    "bounds = [(-5, 5), (-5, 5), (0.1, 1)]              \n",
    "\n",
    "print constraint_1(good_guess)\n",
    "print constraint_2(good_guess)\n",
    "\n",
    "print\"Bad guess:\"\n",
    "print opt(f, guess, bounds = bounds, eqcons = [constraint_1, constraint_2], iprint = 2)\n",
    "print \"Good guess:\"\n",
    "print opt(f, good_guess, bounds = bounds, eqcons = [constraint_1, constraint_2], iprint = 2)"
   ]
  },
  {
   "cell_type": "code",
   "execution_count": null,
   "metadata": {
    "collapsed": true
   },
   "outputs": [],
   "source": []
  }
 ],
 "metadata": {
  "kernelspec": {
   "display_name": "Python 2",
   "language": "python",
   "name": "python2"
  },
  "language_info": {
   "codemirror_mode": {
    "name": "ipython",
    "version": 2
   },
   "file_extension": ".py",
   "mimetype": "text/x-python",
   "name": "python",
   "nbconvert_exporter": "python",
   "pygments_lexer": "ipython2",
   "version": "2.7.5"
  }
 },
 "nbformat": 4,
 "nbformat_minor": 0
}
